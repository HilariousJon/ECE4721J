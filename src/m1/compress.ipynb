version https://git-lfs.github.com/spec/v1
oid sha256:e82f53e86c875ca15c97c27f64db992854307cd7abcb57e692e56b5a847030ad
size 9090
