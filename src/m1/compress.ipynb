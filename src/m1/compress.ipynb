version https://git-lfs.github.com/spec/v1
oid sha256:912e0360bab8f6bcc507254c8feb03f3d5d9519c5eb4c2acb0fb4ad6381a61a3
size 2200
